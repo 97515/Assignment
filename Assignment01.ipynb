{
  "nbformat": 4,
  "nbformat_minor": 0,
  "metadata": {
    "colab": {
      "provenance": [],
      "collapsed_sections": [],
      "authorship_tag": "ABX9TyNBb+GvFOCG4cXm7DL5AHK6",
      "include_colab_link": true
    },
    "kernelspec": {
      "name": "python3",
      "display_name": "Python 3"
    },
    "language_info": {
      "name": "python"
    }
  },
  "cells": [
    {
      "cell_type": "markdown",
      "metadata": {
        "id": "view-in-github",
        "colab_type": "text"
      },
      "source": [
        "<a href=\"https://colab.research.google.com/github/97515/Assignment/blob/main/Assignment01.ipynb\" target=\"_parent\"><img src=\"https://colab.research.google.com/assets/colab-badge.svg\" alt=\"Open In Colab\"/></a>"
      ]
    },
    {
      "cell_type": "markdown",
      "source": [],
      "metadata": {
        "id": "OpjR6UQGyTSj"
      }
    },
    {
      "cell_type": "markdown",
      "source": [
        "**Assignment 1**"
      ],
      "metadata": {
        "id": "9uZSSSBfyU9_"
      }
    },
    {
      "cell_type": "markdown",
      "source": [
        "**1. List , Dictionary and Tuples**"
      ],
      "metadata": {
        "id": "E2ZZDiNOLMOu"
      }
    },
    {
      "cell_type": "code",
      "source": [
        "#List\n",
        "mylist=[ \"Cricket\", \"Football\" ,  \"Boxing\"]\n",
        "mylist1=[100,550,0, True ,\"Data\"]\n",
        "print(mylist)\n",
        "print(mylist1)"
      ],
      "metadata": {
        "colab": {
          "base_uri": "https://localhost:8080/"
        },
        "id": "HD1_cxTcyY-F",
        "outputId": "d0255891-7604-411c-b796-d1db48e97ee6"
      },
      "execution_count": null,
      "outputs": [
        {
          "output_type": "stream",
          "name": "stdout",
          "text": [
            "['Cricket', 'Football', 'Boxing']\n",
            "[100, 550, 0, True, 'Data']\n"
          ]
        }
      ]
    },
    {
      "cell_type": "code",
      "source": [
        "# Update\n",
        "mylist=False\n",
        "print(mylist)"
      ],
      "metadata": {
        "colab": {
          "base_uri": "https://localhost:8080/"
        },
        "id": "JlSjo3EKy19H",
        "outputId": "fcbd1625-56a0-4865-a1fe-bc3000771fd1"
      },
      "execution_count": null,
      "outputs": [
        {
          "output_type": "stream",
          "name": "stdout",
          "text": [
            "False\n"
          ]
        }
      ]
    },
    {
      "cell_type": "code",
      "source": [
        "# Append\n",
        "mylist .append (\"Access\")\n",
        "mylist1. append(300)\n",
        "print(mylist)\n",
        "print(mylist1)"
      ],
      "metadata": {
        "colab": {
          "base_uri": "https://localhost:8080/"
        },
        "id": "KhOeFk6Zzco2",
        "outputId": "100a913d-548f-4fda-f21e-2688b669bdc3"
      },
      "execution_count": null,
      "outputs": [
        {
          "output_type": "stream",
          "name": "stdout",
          "text": [
            "['Cricket', 'Football', 'Boxing', 'Access', 'Access']\n",
            "[100, 550, 0, True, 'Data', 300]\n"
          ]
        }
      ]
    },
    {
      "cell_type": "code",
      "source": [
        "#Insert\n",
        "mylist.insert (200,456)\n",
        "mylist1. insert(50, 60)\n",
        "print(mylist)\n",
        "print(mylist1)"
      ],
      "metadata": {
        "colab": {
          "base_uri": "https://localhost:8080/"
        },
        "id": "FHVGRt-nz1Fx",
        "outputId": "15fdba59-1a7c-469c-ec66-9a9c17e2248a"
      },
      "execution_count": null,
      "outputs": [
        {
          "output_type": "stream",
          "name": "stdout",
          "text": [
            "['Cricket', 'Football', 'Boxing', 'Access', 'Access', 456]\n",
            "[100, 550, 0, True, 'Data', 300, 456, 60]\n"
          ]
        }
      ]
    },
    {
      "cell_type": "code",
      "source": [
        "#Delete\n",
        "del mylist[3]\n",
        "del mylist1[4]\n",
        "print(mylist)\n",
        "print(mylist1)"
      ],
      "metadata": {
        "colab": {
          "base_uri": "https://localhost:8080/"
        },
        "id": "H3-RASm01CXe",
        "outputId": "06324c6b-76cc-44fa-f199-05946cb1013f"
      },
      "execution_count": null,
      "outputs": [
        {
          "output_type": "stream",
          "name": "stdout",
          "text": [
            "['Cricket', 'Football', 'Boxing']\n",
            "[100, 550, 0, True, 456, 60]\n"
          ]
        }
      ]
    },
    {
      "cell_type": "code",
      "source": [
        "#Remove\n",
        "mylist.remove(\"Boxing\")\n",
        "mylist1.remove(0)\n",
        "print(mylist)\n",
        "print(mylist1)"
      ],
      "metadata": {
        "colab": {
          "base_uri": "https://localhost:8080/"
        },
        "id": "HGw7OOpW1ta3",
        "outputId": "ba3ccf0c-c735-4df3-c87d-cb779d2594f4"
      },
      "execution_count": null,
      "outputs": [
        {
          "output_type": "stream",
          "name": "stdout",
          "text": [
            "['Cricket', 'Football']\n",
            "[100, 550, True, 456, 60]\n"
          ]
        }
      ]
    },
    {
      "cell_type": "code",
      "source": [
        "#Indexing\n",
        "mylist=(\"Cricket\", \"Football\" ,  \"Boxing\")\n",
        "mylist1=(100,550,0,True,\"Data\")\n",
        "print(mylist[2])\n",
        "print(mylist1[4])"
      ],
      "metadata": {
        "colab": {
          "base_uri": "https://localhost:8080/"
        },
        "id": "3cKXVOav2F5a",
        "outputId": "1a115de4-2cf7-4dd2-9804-3dc4461c2943"
      },
      "execution_count": null,
      "outputs": [
        {
          "output_type": "stream",
          "name": "stdout",
          "text": [
            "Boxing\n",
            "Data\n"
          ]
        }
      ]
    },
    {
      "cell_type": "code",
      "source": [
        "#Dictionary\n",
        "Dict ={\n",
        "           \"brand\": \"Ferrari\",\n",
        "      \"model\" : \"Spider\",\n",
        "      \"year\" : 1970\n",
        "}\n",
        "print(Dict)"
      ],
      "metadata": {
        "colab": {
          "base_uri": "https://localhost:8080/"
        },
        "id": "1u-sDfVD24dc",
        "outputId": "330ff9f7-a717-419c-9641-f6ee74d219d0"
      },
      "execution_count": null,
      "outputs": [
        {
          "output_type": "stream",
          "name": "stdout",
          "text": [
            "{'brand': 'Ferrari', 'model': 'Spider', 'year': 1970}\n"
          ]
        }
      ]
    },
    {
      "cell_type": "code",
      "source": [
        "#Update\n",
        "Dict [\"year\"]=2000\n",
        "print(Dict)"
      ],
      "metadata": {
        "id": "mvDgJ8of-F6T",
        "colab": {
          "base_uri": "https://localhost:8080/"
        },
        "outputId": "d3bf0419-b2f9-4663-a5d8-cae9a59488e6"
      },
      "execution_count": null,
      "outputs": [
        {
          "output_type": "stream",
          "name": "stdout",
          "text": [
            "{'brand': 'Ferrari', 'model': 'Spider', 'year': 2000}\n"
          ]
        }
      ]
    },
    {
      "cell_type": "code",
      "source": [
        "#Delete\n",
        "del Dict[\"model\"]\n",
        "print(Dict)"
      ],
      "metadata": {
        "colab": {
          "base_uri": "https://localhost:8080/"
        },
        "id": "MYUzA_Ll_qX6",
        "outputId": "0b018637-122f-42a1-d4cb-57cf2a3c3691"
      },
      "execution_count": null,
      "outputs": [
        {
          "output_type": "stream",
          "name": "stdout",
          "text": [
            "{'brand': 'Ferrari', 'year': 2000}\n"
          ]
        }
      ]
    },
    {
      "cell_type": "code",
      "source": [
        "#Tuple\n",
        "tuple=(\"year\" , \"week\", \"Days\" ,\"Month\")\n",
        "tuple1=(2 , 4 , 6 , 8, 0)\n",
        "print(tuple)\n",
        "print(tuple[2])\n",
        "print(tuple1[4])\n",
        "print(len(tuple))\n",
        "print(len(tuple1))"
      ],
      "metadata": {
        "colab": {
          "base_uri": "https://localhost:8080/"
        },
        "id": "IsYxtGqoAnsB",
        "outputId": "ee4db2ca-703b-43be-d860-0a9f37f0c93f"
      },
      "execution_count": null,
      "outputs": [
        {
          "output_type": "stream",
          "name": "stdout",
          "text": [
            "('year', 'week', 'Days', 'Month')\n",
            "Days\n",
            "0\n",
            "4\n",
            "5\n"
          ]
        }
      ]
    },
    {
      "cell_type": "code",
      "source": [],
      "metadata": {
        "id": "IdvTmctmuTAJ"
      },
      "execution_count": null,
      "outputs": []
    },
    {
      "cell_type": "markdown",
      "source": [
        " **2. Negative Slicing**"
      ],
      "metadata": {
        "id": "K78eVwZluRRm"
      }
    },
    {
      "cell_type": "code",
      "source": [
        "#Slicing\n",
        "a=(\"analytical\" ,\"data\" , \"d\" , \"e\" , \"f\")\n",
        "x=slice(3 , 4)\n",
        "print(a[x])\n",
        "print(a[0:4])\n",
        "print(a[0:50])\n",
        "print(a[-2])"
      ],
      "metadata": {
        "id": "agVgXSy5CCxT",
        "colab": {
          "base_uri": "https://localhost:8080/"
        },
        "outputId": "840f51c1-92c5-49c6-b5f1-536caa269e82"
      },
      "execution_count": 1,
      "outputs": [
        {
          "output_type": "stream",
          "name": "stdout",
          "text": [
            "('e',)\n",
            "('analytical', 'data', 'd', 'e')\n",
            "('analytical', 'data', 'd', 'e', 'f')\n",
            "e\n"
          ]
        }
      ]
    },
    {
      "cell_type": "markdown",
      "source": [
        "**3.Frozen Set**"
      ],
      "metadata": {
        "id": "HfPDRo5PLnSv"
      }
    },
    {
      "cell_type": "code",
      "source": [
        "#Frozenset\n",
        "set1={\"OS\" , \"DBMS \" , \"SQL\"}\n",
        "set2={0, True, \"Data\"}\n",
        "set3=set1.intersection(set2)\n",
        "print(set3)"
      ],
      "metadata": {
        "id": "YQL25NFFBAeb",
        "colab": {
          "base_uri": "https://localhost:8080/"
        },
        "outputId": "563355fd-48ca-4965-8a49-b55bee3f4a8d"
      },
      "execution_count": 3,
      "outputs": [
        {
          "output_type": "stream",
          "name": "stdout",
          "text": [
            "set()\n"
          ]
        }
      ]
    },
    {
      "cell_type": "code",
      "source": [
        "A = frozenset([1, 2, 3, 4])\n",
        "B = frozenset([3, 4, 5, 6])\n",
        "print(A.intersection(B))\n",
        "print(A.union(B))\n",
        "print(A.difference(B))"
      ],
      "metadata": {
        "colab": {
          "base_uri": "https://localhost:8080/"
        },
        "id": "jWcR7d0ZPYrp",
        "outputId": "cbc5ed67-6bed-41d3-fd77-9b08392f130a"
      },
      "execution_count": 6,
      "outputs": [
        {
          "output_type": "stream",
          "name": "stdout",
          "text": [
            "frozenset({3, 4})\n",
            "frozenset({1, 2, 3, 4, 5, 6})\n",
            "frozenset({1, 2})\n"
          ]
        }
      ]
    }
  ]
}