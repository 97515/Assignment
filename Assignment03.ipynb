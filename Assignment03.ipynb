{
  "nbformat": 4,
  "nbformat_minor": 0,
  "metadata": {
    "colab": {
      "provenance": [],
      "collapsed_sections": [],
      "authorship_tag": "ABX9TyPUGgROyPgpOPfwdBfYKeDY",
      "include_colab_link": true
    },
    "kernelspec": {
      "name": "python3",
      "display_name": "Python 3"
    },
    "language_info": {
      "name": "python"
    }
  },
  "cells": [
    {
      "cell_type": "markdown",
      "metadata": {
        "id": "view-in-github",
        "colab_type": "text"
      },
      "source": [
        "<a href=\"https://colab.research.google.com/github/97515/Assignment/blob/main/Assignment03.ipynb\" target=\"_parent\"><img src=\"https://colab.research.google.com/assets/colab-badge.svg\" alt=\"Open In Colab\"/></a>"
      ]
    },
    {
      "cell_type": "markdown",
      "source": [
        "**Assignment 3**"
      ],
      "metadata": {
        "id": "osjJkB392WKY"
      }
    },
    {
      "cell_type": "code",
      "source": [
        "myfile=open(\"file.py\" ,\"r\")\n",
        "print(myfile.read())"
      ],
      "metadata": {
        "id": "VQZWTX0z-IxO",
        "outputId": "4ae94fd0-1397-4bca-d7e9-5a1f80fae6ff",
        "colab": {
          "base_uri": "https://localhost:8080/"
        }
      },
      "execution_count": null,
      "outputs": [
        {
          "output_type": "stream",
          "name": "stdout",
          "text": [
            "a=2, b=4, c=6\n"
          ]
        }
      ]
    },
    {
      "cell_type": "code",
      "source": [
        "myfile=open(\"file.py\" , \"w\")\n",
        "myfile.write(\"Assigning a values\")"
      ],
      "metadata": {
        "id": "6TX6MJrT-bBN",
        "colab": {
          "base_uri": "https://localhost:8080/"
        },
        "outputId": "04508e9a-3a8b-43dd-db36-f846aa7bcd42"
      },
      "execution_count": null,
      "outputs": [
        {
          "output_type": "execute_result",
          "data": {
            "text/plain": [
              "18"
            ]
          },
          "metadata": {},
          "execution_count": 3
        }
      ]
    },
    {
      "cell_type": "code",
      "source": [
        "myfile=open(\"file,py\", \"a\")\n",
        "myfile.write(\"The values assigned by the developer\")"
      ],
      "metadata": {
        "colab": {
          "base_uri": "https://localhost:8080/"
        },
        "id": "Jx_K8-Z_WxEz",
        "outputId": "a4fa2c6c-ef3b-4992-f706-1b16904c0320"
      },
      "execution_count": null,
      "outputs": [
        {
          "output_type": "execute_result",
          "data": {
            "text/plain": [
              "36"
            ]
          },
          "metadata": {},
          "execution_count": 4
        }
      ]
    },
    {
      "cell_type": "markdown",
      "source": [
        "Create a Calculator"
      ],
      "metadata": {
        "id": "WQekMAkWlRYF"
      }
    },
    {
      "cell_type": "code",
      "source": [
        "# Python program for simple calculator\n",
        " \n",
        "# Function to addition\n",
        "def add(num1, num2):\n",
        "    return num1 + num2\n",
        " \n",
        "# Function to subtraction\n",
        "def subtract(num1, num2):\n",
        "    return num1 - num2\n",
        " \n",
        "# Function to multiplication\n",
        "def multiply(num1, num2):\n",
        "    return num1 * num2\n",
        " \n",
        "# Function to division\n",
        "def divide(num1, num2):\n",
        "    return num1 / num2\n",
        " \n",
        "print(\"Please select operation -\\n\" \\\n",
        "        \"1. Add\\n\" \\\n",
        "        \"2. Subtract\\n\" \\\n",
        "        \"3. Multiply\\n\" \\\n",
        "        \"4. Divide\\n\")"
      ],
      "metadata": {
        "colab": {
          "base_uri": "https://localhost:8080/"
        },
        "id": "6pWT48Nk1lPI",
        "outputId": "b95ee71d-7144-4d85-89b2-88b682d8207c"
      },
      "execution_count": 39,
      "outputs": [
        {
          "output_type": "stream",
          "name": "stdout",
          "text": [
            "Please select operation -\n",
            "1. Add\n",
            "2. Subtract\n",
            "3. Multiply\n",
            "4. Divide\n",
            "\n"
          ]
        }
      ]
    },
    {
      "cell_type": "code",
      "source": [
        "# Take input from the user\n",
        "select = int(input(\"Select operations form 1, 2, 3, 4 :\"))\n",
        " \n",
        "number_1 = int(input(\"Enter first number: \"))\n",
        "number_2 = int(input(\"Enter second number: \"))\n",
        " \n",
        "if select == 1:\n",
        "    print(number_1, \"+\", number_2, \"=\",\n",
        "                    add(number_1, number_2))\n",
        " \n",
        "elif select == 2:\n",
        "    print(number_1, \"-\", number_2, \"=\",\n",
        "                    subtract(number_1, number_2))\n",
        " \n",
        "elif select == 3:\n",
        "    print(number_1, \"*\", number_2, \"=\",\n",
        "                    multiply(number_1, number_2))\n",
        " \n",
        "elif select == 4:\n",
        "    print(number_1, \"/\", number_2, \"=\",\n",
        "                    divide(number_1, number_2))\n",
        "else:\n",
        "    print(\"Invalid input\")"
      ],
      "metadata": {
        "colab": {
          "base_uri": "https://localhost:8080/"
        },
        "id": "IvwvKaK8Ehmu",
        "outputId": "52694560-9add-4c8b-bc82-15a796684ebd"
      },
      "execution_count": 37,
      "outputs": [
        {
          "output_type": "stream",
          "name": "stdout",
          "text": [
            "Select operations form 1, 2, 3, 4 :3\n",
            "Enter first number: 4\n",
            "Enter second number: 6\n",
            "4 * 6 = 24\n"
          ]
        }
      ]
    },
    {
      "cell_type": "code",
      "source": [
        "f=open(\"cal.py\",\"r\")\n",
        "print(f.read())"
      ],
      "metadata": {
        "colab": {
          "base_uri": "https://localhost:8080/"
        },
        "id": "3_REhZi2Ehtw",
        "outputId": "0924719a-839f-4ef7-b42e-acef87e6562d"
      },
      "execution_count": 38,
      "outputs": [
        {
          "output_type": "stream",
          "name": "stdout",
          "text": [
            "# Function to additon\n",
            "def add(num1, num2):\n",
            "    return num1 + num2\n",
            "    # Function to subtraction\n",
            "def subtract(num1, num2):\n",
            "    return num1 - num2\n",
            " \n",
            "# Function to multiplication\n",
            "def multiply(num1, num2):\n",
            "    return num1 * num2\n",
            " \n",
            "# Function to division\n",
            "def divide(num1, num2):\n",
            "    return num1 / num2\n",
            "    print(\"Select operation.\")\n",
            "print(\"1.Add\")\n",
            "print(\"2.Subtract\")\n",
            "print(\"3.Multiply\")\n",
            "print(\"4.Divide\")\n",
            "\n",
            "        \n"
          ]
        }
      ]
    },
    {
      "cell_type": "code",
      "source": [],
      "metadata": {
        "id": "F9Brzr7nEhxN"
      },
      "execution_count": null,
      "outputs": []
    }
  ]
}